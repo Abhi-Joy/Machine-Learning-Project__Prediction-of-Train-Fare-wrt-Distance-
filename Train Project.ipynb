{
 "cells": [
  {
   "cell_type": "code",
   "execution_count": 2,
   "id": "048f7c50",
   "metadata": {},
   "outputs": [
    {
     "name": "stdout",
     "output_type": "stream",
     "text": [
      "Which train you are looking for: \n",
      " Rajdhani \n",
      " Satabdi \n",
      " Jan Satabdi \n",
      " Mail \n",
      " Garibrath \n",
      " Ordinary \n",
      " \n",
      " *Case Sensetive\n",
      "Your Input:Ordinary\n",
      "\n",
      " Which Class: {'FC', '2S', 'SL'}\n",
      "\n",
      " Your Input:FC\n",
      "\n",
      " My model accuracy is.. 99.61315314945921\n",
      "\n",
      " Distance:5688\n",
      "\n",
      " \n",
      " Fare of Ordinary for 5688.0 KM, of FC is ₹ [6624.00684287] *Taxes not included\n"
     ]
    }
   ],
   "source": [
    "#train_name is train name in dictionary\n",
    "#train_type is input taken from user (Train Name)\n",
    "#train_class is input taken from user(class[2s,sl,fc,ac etc])\n",
    "\n",
    "\n",
    "print(\"Which train you are looking for: \"\n",
    "      \"\\n Rajdhani \\n Satabdi \\n Jan Satabdi \\n Mail \\n Garibrath \\n Ordinary \\n \\n *Case Sensetive\")\n",
    "train_type = input(\"Your Input:\")\n",
    "train_name = {\n",
    "    \"Rajdhani\": {\"1A\", \"2A\", \"3A\"},\n",
    "    \"Satabdi\": {\"CC\", \"EC\"},\n",
    "    \"Jan Satabdi\": {\"2S\", \"CC\"},\n",
    "    \"Mail\": {\"2S\", \"FC\", \"SL\"},\n",
    "    \"Garibrath\": {\"3A\", \"CC\"},\n",
    "    \"Ordinary\": {\"2S\", \"FC\", \"SL\"}}\n",
    "keys = train_name.get(train_type)\n",
    "print(\"\\n Which Class:\", keys)\n",
    "class_type = input(\"\\n Your Input:\")\n",
    "\n",
    "\n",
    "#importing libraries\n",
    "import pandas as pd\n",
    "import numpy as np\n",
    "import seaborn as sb\n",
    "\n",
    "#data importing\n",
    "filename=train_type+class_type\n",
    "data=pd.read_csv(filename + '.csv')\n",
    "    \n",
    "x=data.iloc[:,:-1]\n",
    "y=data.iloc[:,1].values\n",
    "\n",
    "#importing sklearn\n",
    "from sklearn.model_selection import train_test_split\n",
    "x_train, x_test, y_train, y_test=train_test_split(x,y, test_size=0.8,random_state=0)\n",
    "\n",
    "#importing linear Regression\n",
    "from sklearn.linear_model import LinearRegression\n",
    "ab=LinearRegression()\n",
    "ab.fit(x_train, y_train)\n",
    "l_pred=ab.predict(x_test)\n",
    "\n",
    "from sklearn.metrics import r2_score\n",
    "\n",
    "print(\"\\n My model accuracy is..\",r2_score(y_test,l_pred)*100)\n",
    "\n",
    "dist=float(input(\"\\n Distance:\"))\n",
    "\n",
    "pred1=ab.predict([[dist]])\n",
    "\n",
    "print('\\n \\n Fare of',train_type, \"for\", dist, \"KM, of\", class_type,\"is ₹\",pred1, \"*Taxes not included\")\n",
    "\n",
    "\n",
    "\n",
    "\n",
    "#PROG BY- ABHIJEET NAHA"
   ]
  },
  {
   "cell_type": "code",
   "execution_count": null,
   "id": "423e63c9",
   "metadata": {},
   "outputs": [],
   "source": []
  }
 ],
 "metadata": {
  "kernelspec": {
   "display_name": "Python 3 (ipykernel)",
   "language": "python",
   "name": "python3"
  },
  "language_info": {
   "codemirror_mode": {
    "name": "ipython",
    "version": 3
   },
   "file_extension": ".py",
   "mimetype": "text/x-python",
   "name": "python",
   "nbconvert_exporter": "python",
   "pygments_lexer": "ipython3",
   "version": "3.9.7"
  }
 },
 "nbformat": 4,
 "nbformat_minor": 5
}
